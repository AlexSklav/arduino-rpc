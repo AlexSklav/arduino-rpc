{
 "metadata": {
  "name": "",
  "signature": "sha256:c4b15d60d01e366c655feeba1544d60f05048a95684c04679b4fb352e2b79929"
 },
 "nbformat": 3,
 "nbformat_minor": 0,
 "worksheets": [
  {
   "cells": [
    {
     "cell_type": "markdown",
     "metadata": {},
     "source": [
      "## Method signature ##\n",
      "\n",
      " - `<camel name>` (e.g., `RamFree`)\n",
      " - `<underscore name>` (e.g., `ram_free`)\n",
      " - `<return type>` (**Type** or `None`)\n",
      " - `<arg types>` (list of `[<name>, `**Type**`]`)\n",
      " \n",
      "## Type ##\n",
      "\n",
      "One of:\n",
      "\n",
      " - `<c type>` (e.g., `uint8_t`, `float32`)\n",
      " - `(<atom c type>, 'array', <array c type>)` (e.g., `uint8_t`, `array`, `UInt8Array`)\n",
      " \n",
      "## Arg packing ##\n",
      "\n",
      "Given a method signature:\n",
      "\n",
      " - Calculate size of structure\n",
      "  * Each array counts as `2 * sizeof(uint16_t)`, one for `length`, one for `data` pointer\n",
      "  * Add size of all arrays\n",
      "  * Write concatenated contents of all arrays at end of payload\n",
      "  * For each array, set `data` pointer to offset to first byte of array data in payload"
     ]
    },
    {
     "cell_type": "code",
     "collapsed": false,
     "input": [
      "from serial import Serial\n",
      "import numpy as np\n",
      "from nadamq.NadaMq import cPacket, cPacketParser, PACKET_TYPES"
     ],
     "language": "python",
     "metadata": {},
     "outputs": [],
     "prompt_number": 1
    },
    {
     "cell_type": "code",
     "collapsed": false,
     "input": [
      "import types\n",
      "from collections import OrderedDict\n",
      "from cStringIO import StringIO\n",
      "\n",
      "import pandas as pd\n",
      "\n",
      "from arduino_rpc.rpc_code import get_methods, get_command_processor_header_commands\n",
      "from arduino_rpc.rpc_code import get_arg_info, get_struct_arg_info, payload_template\n",
      "from arduino_rpc.rpc_code import get_arg_c_struct_def, get_return_c_struct_def, get_signature_info, get_switch_case_tempate\n",
      "from arduino_rpc.rpc_code import get_c_command_constants, get_py_command_constants\n",
      "from arduino_rpc.rpc_code import get_c_sig_info_frame, get_sig_info_frame, write_c_header, get_py_sig_info_frame, write_py_module\n",
      "from arduino_rpc.rpc_code import python_code_template"
     ],
     "language": "python",
     "metadata": {},
     "outputs": [],
     "prompt_number": 2
    },
    {
     "cell_type": "code",
     "collapsed": false,
     "input": [
      "rpc_header = 'arduino_rpc/Arduino/arduino_rpc/Node.h'\n",
      "methods = get_methods(rpc_header)\n",
      "signatures = get_command_processor_header_commands(methods)\n",
      "\n",
      "df_sig_info = get_sig_info_frame(signatures)\n",
      "df_c_sig_info = get_c_sig_info_frame(df_sig_info)\n",
      "\n",
      "header_path = 'arduino_rpc/Arduino/arduino_rpc/TestCommandProcessor.h'\n",
      "write_c_header(df_c_sig_info, header_path, 'command_processor')"
     ],
     "language": "python",
     "metadata": {},
     "outputs": [],
     "prompt_number": 3
    },
    {
     "cell_type": "code",
     "collapsed": false,
     "input": [
      "df_py_sig_info = get_py_sig_info_frame(df_sig_info)"
     ],
     "language": "python",
     "metadata": {},
     "outputs": [],
     "prompt_number": 4
    },
    {
     "cell_type": "code",
     "collapsed": false,
     "input": [
      "write_py_module(df_py_sig_info, 'arduino_rpc/node.py')"
     ],
     "language": "python",
     "metadata": {},
     "outputs": [],
     "prompt_number": 5
    },
    {
     "cell_type": "code",
     "collapsed": false,
     "input": [
      "from arduino_rpc.node import Proxy"
     ],
     "language": "python",
     "metadata": {},
     "outputs": [],
     "prompt_number": 6
    },
    {
     "cell_type": "code",
     "collapsed": false,
     "input": [
      "d = Serial('/dev/ttyUSB1', baudrate=115200)"
     ],
     "language": "python",
     "metadata": {},
     "outputs": [],
     "prompt_number": 7
    },
    {
     "cell_type": "code",
     "collapsed": false,
     "input": [
      "p = Proxy(d)"
     ],
     "language": "python",
     "metadata": {},
     "outputs": [],
     "prompt_number": 8
    },
    {
     "cell_type": "code",
     "collapsed": false,
     "input": [
      "%timeit p.array_length(range(10))"
     ],
     "language": "python",
     "metadata": {},
     "outputs": [
      {
       "output_type": "stream",
       "stream": "stdout",
       "text": [
        "100 loops, best of 3: 4.99 ms per loop\n"
       ]
      }
     ],
     "prompt_number": 10
    }
   ],
   "metadata": {}
  }
 ]
}