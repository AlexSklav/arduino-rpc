{
 "metadata": {
  "name": "",
  "signature": "sha256:37cd263f78345215e5c6bc86e0a419ec3f4cf957608238654f4bae87db92765f"
 },
 "nbformat": 3,
 "nbformat_minor": 0,
 "worksheets": [
  {
   "cells": [
    {
     "cell_type": "code",
     "collapsed": false,
     "input": [
      "from serial import Serial\n",
      "from arduino_rpc.node import Proxy\n",
      "import pandas as pd\n",
      "from si_prefix import si_format"
     ],
     "language": "python",
     "metadata": {},
     "outputs": [
      {
       "output_type": "stream",
       "stream": "stderr",
       "text": [
        "/home/christian/.virtualenvs/md-x64/lib/python2.7/site-packages/pytz/__init__.py:29: UserWarning: Module arduino_rpc was already imported from arduino_rpc/__init__.pyc, but /home/christian/.virtualenvs/md-x64/src/arduino_rpc is being added to sys.path\n",
        "  from pkg_resources import resource_stream\n"
       ]
      }
     ],
     "prompt_number": 1
    },
    {
     "cell_type": "markdown",
     "metadata": {},
     "source": [
      "-------------------------------------------------------------------"
     ]
    },
    {
     "cell_type": "heading",
     "level": 1,
     "metadata": {},
     "source": [
      "Transfer rate benchmark test: one-way versus round-trip"
     ]
    },
    {
     "cell_type": "code",
     "collapsed": false,
     "input": [
      "d = Serial('/dev/ttyUSB0', baudrate=115200)\n",
      "p = Proxy(d)\n",
      "p.str_echo(map(ord, 'hello, world!')).tostring()"
     ],
     "language": "python",
     "metadata": {},
     "outputs": [
      {
       "metadata": {},
       "output_type": "pyout",
       "prompt_number": 152,
       "text": [
        "'hello, world!'"
       ]
      }
     ],
     "prompt_number": 152
    },
    {
     "cell_type": "code",
     "collapsed": false,
     "input": [
      "%timeit p.str_echo(range(p.max_payload_size()))"
     ],
     "language": "python",
     "metadata": {},
     "outputs": [
      {
       "output_type": "stream",
       "stream": "stdout",
       "text": [
        "10 loops, best of 3: 96 ms per loop\n"
       ]
      }
     ],
     "prompt_number": 153
    },
    {
     "cell_type": "code",
     "collapsed": false,
     "input": [
      "# Test one-way (i.e., `array_length`) and round-trip (i.e., `str_echo`)\n",
      "# for byte counts from 1-100.\n",
      "frames = []\n",
      "for n in range(1, 102, 10):\n",
      "    data = map(ord, n * 'h')\n",
      "    \n",
      "    echo_timeit = %timeit -qo p.str_echo(data)\n",
      "    length_timeit = %timeit -qo p.array_length(data)\n",
      "    frame = pd.DataFrame([[n, echo_timeit.best, length_timeit.best]],\n",
      "                         columns=['byte_count', 'echo_seconds',\n",
      "                                  'length_seconds'])\n",
      "    frames.append(frame)\n",
      "times = pd.concat(frames)\n",
      "# __NB__ Support for returning arrays currently **copies** the result array\n",
      "# to the output buffer.  This copy is not strictly necessary from a technical\n",
      "# perspective, but it an implementation detail.  The impact of this is the\n",
      "# added runtime overhead associated with the `memcpy`, though this should be\n",
      "# insignificant compared to the communication time."
     ],
     "language": "python",
     "metadata": {},
     "outputs": [],
     "prompt_number": 14
    },
    {
     "cell_type": "code",
     "collapsed": false,
     "input": [
      "%matplotlib inline"
     ],
     "language": "python",
     "metadata": {},
     "outputs": [],
     "prompt_number": 15
    },
    {
     "cell_type": "code",
     "collapsed": false,
     "input": [
      "# Compute minimum serial communication time for one-way transfer of\n",
      "# each byte.\n",
      "min_seconds_per_byte = (8. / d.baudrate)\n",
      "\n",
      "times['baud_seconds'] = (times['length_seconds'].min() +\n",
      "                         min_seconds_per_byte * times['byte_count'])\n",
      "\n",
      "axis = times.plot(kind='scatter', x=['byte_count', 'byte_count'],\n",
      "                  y=['echo_seconds', 'length_seconds'], xlim=0,\n",
      "                  marker='x', s=8 ** 2)\n",
      "times.plot(x='byte_count', y='baud_seconds', xlim=0, ax=axis)"
     ],
     "language": "python",
     "metadata": {},
     "outputs": [
      {
       "metadata": {},
       "output_type": "pyout",
       "prompt_number": 16,
       "text": [
        "<matplotlib.axes.AxesSubplot at 0x7f91a1728e10>"
       ]
      },
      {
       "metadata": {},
       "output_type": "display_data",
       "png": "[encoded data removed]",
       "text": [
        "<matplotlib.figure.Figure at 0x7f91a1728890>"
       ]
      }
     ],
     "prompt_number": 16
    },
    {
     "cell_type": "code",
     "collapsed": false,
     "input": [
      "diff = times.iloc[-1] - times.iloc[0]\n",
      "slope = diff[['echo_seconds', 'length_seconds']] / diff.byte_count\n",
      "slope.name = 'time_per_byte'\n",
      "slope['baud_seconds'] = min_seconds_per_byte\n",
      "pd.set_eng_float_format(accuracy=2, use_eng_prefix=True)\n",
      "axis = slope.plot(kind='bar')\n",
      "axis.set_yticklabels(['%ss' % si_format(t, 0) for t in axis.get_yticks()])\n",
      "pass"
     ],
     "language": "python",
     "metadata": {},
     "outputs": [
      {
       "metadata": {},
       "output_type": "display_data",
       "png": "[encoded data removed]",
       "text": [
        "<matplotlib.figure.Figure at 0x7f91a17099d0>"
       ]
      }
     ],
     "prompt_number": 17
    }
   ],
   "metadata": {}
  }
 ]
}